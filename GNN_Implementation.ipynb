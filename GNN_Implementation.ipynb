{
  "nbformat": 4,
  "nbformat_minor": 0,
  "metadata": {
    "colab": {
      "provenance": []
    },
    "kernelspec": {
      "name": "python3",
      "display_name": "Python 3"
    },
    "language_info": {
      "name": "python"
    },
    "gpuClass": "standard"
  },
  "cells": [
    {
      "cell_type": "markdown",
      "source": [
        "Installs:"
      ],
      "metadata": {
        "id": "ssQaOdoOPcDy"
      }
    },
    {
      "cell_type": "code",
      "source": [
        "!pip install kaggle --upgrade # for kaggle download\n",
        "!pip install -U sentence-transformers # for SBERT pre-trained download\n",
        "!pip install torch-geometric\n",
        "!pip install pyg-lib torch-scatter torch-sparse -f https://data.pyg.org/whl/torch-1.13.1+cu116.html"
      ],
      "metadata": {
        "id": "2t3KjqxPPdP0"
      },
      "execution_count": null,
      "outputs": []
    },
    {
      "cell_type": "markdown",
      "source": [
        "##### Imports:"
      ],
      "metadata": {
        "id": "dHDbx5OLvoLU"
      }
    },
    {
      "cell_type": "code",
      "source": [
        "import os\n",
        "import pandas as pd\n",
        "import numpy as np\n",
        "import random\n",
        "from random import sample\n",
        "import pickle\n",
        "from IPython.display import HTML, display\n",
        "from google.colab import drive\n",
        "import torch\n",
        "import torch.nn as nn\n",
        "from torch_geometric.nn import Sequential, GCNConv\n",
        "from sentence_transformers import util\n",
        "import matplotlib \n",
        "import matplotlib.pyplot as plt \n",
        "from matplotlib.patches import Rectangle"
      ],
      "metadata": {
        "id": "HBaaknwnvpbl"
      },
      "execution_count": null,
      "outputs": []
    },
    {
      "cell_type": "markdown",
      "source": [
        "##### Choose an input graph to load:"
      ],
      "metadata": {
        "id": "WLLh8yBZvf39"
      }
    },
    {
      "cell_type": "markdown",
      "source": [
        "Graph initialization code: https://colab.research.google.com/drive/1Ygsy2a8sxpipOSKXys2cwIzeMyN4iEXz?authuser=3#scrollTo=6L_t_4ilqiAp"
      ],
      "metadata": {
        "id": "TcKdq7bSv35z"
      }
    },
    {
      "cell_type": "markdown",
      "source": [
        "Print all save graphs:"
      ],
      "metadata": {
        "id": "nqqNeP-TwDSy"
      }
    },
    {
      "cell_type": "code",
      "source": [
        "drive.mount('/content/drive') "
      ],
      "metadata": {
        "id": "NWIHUa7EV6dC"
      },
      "execution_count": null,
      "outputs": []
    },
    {
      "cell_type": "code",
      "source": [
        "saved = os.listdir(\"/content/drive/My Drive/J-Term 2023/input-graphs\")\n",
        "t=[print(str(i)+\": \"+saved[i]) for i in range(len(saved))]"
      ],
      "metadata": {
        "id": "9iaYqslavkJK"
      },
      "execution_count": null,
      "outputs": []
    },
    {
      "cell_type": "markdown",
      "source": [
        "Select and load a graph of choice"
      ],
      "metadata": {
        "id": "kG5dLnIqwFMR"
      }
    },
    {
      "cell_type": "code",
      "source": [
        "class Node():\n",
        "  def __init__(self, embedding, engl, edges, edgeweights, idx):\n",
        "    self.emb = embedding # onehot or pre-embed encoding\n",
        "    self.en = engl # english word\n",
        "    self.edges = edges # list of connected edges\n",
        "    self.edgew = edgeweights # edgeweights corresponding to edges\n",
        "    self.idx = idx # node index"
      ],
      "metadata": {
        "id": "i266w09GZyK-"
      },
      "execution_count": null,
      "outputs": []
    },
    {
      "cell_type": "code",
      "execution_count": null,
      "metadata": {
        "id": "drmOkklLvXMd"
      },
      "outputs": [],
      "source": [
        "def Load(graphname):\n",
        "    with open(\"/content/drive/My Drive/J-Term 2023/input-graphs/\" + graphname, \"rb\") as pkl_handle:\n",
        "        output = pickle.load(pkl_handle)\n",
        "        print(\"loaded: \"+graphname)\n",
        "        return output\n",
        "\n",
        "loaded_graph = Load(saved[0])"
      ]
    },
    {
      "cell_type": "code",
      "source": [
        "def Load(): # for a second acc\n",
        "    with open(\"/content/drive/My Drive/init-graph-word2vec-.45thresh.txt\", \"rb\") as pkl_handle:\n",
        "        output = pickle.load(pkl_handle)\n",
        "        print(\"loaded\")\n",
        "        return output\n",
        "\n",
        "loaded_graph = Load()"
      ],
      "metadata": {
        "id": "MfFJbyeF3OzM"
      },
      "execution_count": null,
      "outputs": []
    },
    {
      "cell_type": "code",
      "source": [
        "print(loaded_graph['orchard'].emb.shape)\n",
        "print(loaded_graph['orchard'].edges)"
      ],
      "metadata": {
        "id": "EibotkeHZ1TD"
      },
      "execution_count": null,
      "outputs": []
    },
    {
      "cell_type": "markdown",
      "source": [
        "##### Load in the co-occurrence matrix:"
      ],
      "metadata": {
        "id": "kMQar7Z0yx3f"
      }
    },
    {
      "cell_type": "markdown",
      "source": [
        "Comatrix initialization code: https://colab.research.google.com/drive/1UTmO27hYl1uUQbMqPZO5jKkEcHUrbKTM?authuser=3#scrollTo=k8BiLaGaxcp3"
      ],
      "metadata": {
        "id": "cFWollw2z6gt"
      }
    },
    {
      "cell_type": "markdown",
      "source": [
        "Import the words dataset:"
      ],
      "metadata": {
        "id": "DhP-un8GUSg3"
      }
    },
    {
      "cell_type": "code",
      "source": [
        "# downloading kaggle noun dataset - only need to run once\n",
        "os.environ['KAGGLE_USERNAME'] = ''\n",
        "os.environ['KAGGLE_KEY'] = ''\n",
        "!kaggle datasets download -d leite0407/list-of-nouns # https://www.kaggle.com/datasets/leite0407/list-of-nouns\n",
        "!unzip list-of-nouns.zip\n",
        "# cleaning the data\n",
        "nouns = pd.read_csv('nounlist.csv').values.tolist()\n",
        "for i in range(len(nouns)):\n",
        "  nouns[i]=nouns[i][0]"
      ],
      "metadata": {
        "id": "wVQ96iohUNgC"
      },
      "execution_count": null,
      "outputs": []
    },
    {
      "cell_type": "markdown",
      "source": [
        "Create a reference dictionary that maps words to indicies:"
      ],
      "metadata": {
        "id": "60_AEVdYzpmd"
      }
    },
    {
      "cell_type": "code",
      "source": [
        "words_dict = {}\n",
        "for i in range(len(nouns)):\n",
        "  words_dict.update({nouns[i].lower(): i})"
      ],
      "metadata": {
        "id": "bcduonbbzoja"
      },
      "execution_count": null,
      "outputs": []
    },
    {
      "cell_type": "markdown",
      "source": [
        "Download from google drive and normalize the entries:"
      ],
      "metadata": {
        "id": "GHcD20cdzzrR"
      }
    },
    {
      "cell_type": "code",
      "source": [
        "with open('/content/drive/My Drive/comatrix3.npy', 'rb') as f: \n",
        "  comatrix=np.load(f, allow_pickle=True)\n",
        "\n",
        "log_nozero = np.vectorize(lambda x: np.log(x) if x>1 else 0)\n",
        "log_comat = np.array([log_nozero(x) for x in comatrix]) # normalize by taking log\n",
        "del(comatrix)"
      ],
      "metadata": {
        "id": "ArBrw8zXzuvc"
      },
      "execution_count": null,
      "outputs": []
    },
    {
      "cell_type": "markdown",
      "source": [
        "Create a positive pairs list from the comatrix:"
      ],
      "metadata": {
        "id": "NIg-0BYU0KRV"
      }
    },
    {
      "cell_type": "code",
      "source": [
        "pospairs_list = [(x,y) for (x, y), element in np.ndenumerate(log_comat) if element>1.9] # create a list of positive pairs\n",
        "del(log_comat) # delete the comatrix from runtime RAM\n",
        "print(len(pospairs_list))"
      ],
      "metadata": {
        "id": "6flf6Elo0Ml1",
        "colab": {
          "base_uri": "https://localhost:8080/"
        },
        "outputId": "2c2136f4-0bdd-4a19-e615-a751029fa9d9"
      },
      "execution_count": null,
      "outputs": [
        {
          "output_type": "stream",
          "name": "stdout",
          "text": [
            "187231\n"
          ]
        }
      ]
    },
    {
      "cell_type": "markdown",
      "source": [
        "##### Constructing an unweighted GNN class:"
      ],
      "metadata": {
        "id": "k-SvJV_40Ziv"
      }
    },
    {
      "cell_type": "markdown",
      "source": [
        "References:\n",
        "\n",
        "1.   https://pytorch-geometric.readthedocs.io/en/latest/modules/nn.html\n",
        "2.  https://pytorch-geometric.readthedocs.io/en/latest/modules/nn.html#torch_geometric.nn.conv.GCNConv\n",
        "3. https://pytorch-geometric.readthedocs.io/en/latest/notes/introduction.html"
      ],
      "metadata": {
        "id": "8lwFt4-k0wSX"
      }
    },
    {
      "cell_type": "code",
      "source": [
        "class unweightedGNN(torch.nn.Module):\n",
        "  def __init__(self):\n",
        "    super().__init__()\n",
        "    self.layers = Sequential('x, edge_index', [ # number of layers is arbitrary...\n",
        "        \n",
        "         (GCNConv(6800, 3400), 'x, edge_index -> x'),\n",
        "         (nn.ReLU(inplace=True)),\n",
        "         #(nn.Dropout()),\n",
        "\n",
        "         (GCNConv(3400, 1700), 'x, edge_index -> x'),\n",
        "         (nn.ReLU(inplace=True)),\n",
        "         #(nn.Dropout()),\n",
        "\n",
        "         (GCNConv(1700, 850), 'x, edge_index -> x'),\n",
        "         (nn.ReLU(inplace=True)),\n",
        "         #(nn.Dropout()),\n",
        "\n",
        "         (GCNConv(850, 425), 'x, edge_index -> x'),\n",
        "         (nn.ReLU(inplace=True)),\n",
        "         #(nn.Dropout()),\n",
        "\n",
        "         (nn.Linear(425, 425)),\n",
        "         (nn.ReLU())\n",
        "    ])\n",
        "\n",
        "  def forward(self, x, edges, edgeweights): # x is a tensor holding the one-hot encodings for the words    \n",
        "    return(self.layers(x, edges)) # apply softmax so all vectors are of the same magnitude"
      ],
      "metadata": {
        "id": "tX6R4CBb0qpr"
      },
      "execution_count": null,
      "outputs": []
    },
    {
      "cell_type": "code",
      "source": [
        "class weightedGNN(torch.nn.Module):\n",
        "  def __init__(self):\n",
        "    super().__init__()\n",
        "    self.layers = Sequential('x, edge_index, edge_weights', [\n",
        "        \n",
        "         (GCNConv(6800, 3400), 'x, edge_index, edge_weights -> x'),\n",
        "         (nn.ReLU(inplace=True)),\n",
        "         #(nn.Dropout()),\n",
        "\n",
        "         (GCNConv(3400, 1700), 'x, edge_index, edge_weights -> x'),\n",
        "         (nn.ReLU(inplace=True)),\n",
        "         #(nn.Dropout()),\n",
        "\n",
        "         (GCNConv(1700, 850), 'x, edge_index, edge_weights -> x'),\n",
        "         (nn.ReLU(inplace=True)),\n",
        "         #(nn.Dropout()),\n",
        "\n",
        "         (GCNConv(850, 425), 'x, edge_index, edge_weights -> x'),\n",
        "         (nn.ReLU(inplace=True)),\n",
        "         #(nn.Dropout()),\n",
        "\n",
        "         (nn.Linear(425, 425)),\n",
        "         (nn.ReLU())\n",
        "    ])\n",
        "\n",
        "  def forward(self, x, edges, edgeweights): # x is a tensor holding the one-hot encodings for the words    \n",
        "    return(self.layers(x, edges, edgeweights))"
      ],
      "metadata": {
        "id": "vg4Vo3-Q4rnf"
      },
      "execution_count": null,
      "outputs": []
    },
    {
      "cell_type": "markdown",
      "source": [
        "Creating edges and edgeweights tensors to pass into the GNN:"
      ],
      "metadata": {
        "id": "k5poJ54p11_z"
      }
    },
    {
      "cell_type": "code",
      "source": [
        "edges = []\n",
        "edgews = []\n",
        "\n",
        "edges = [[],[]]\n",
        "for key in loaded_graph:\n",
        "  lgk = loaded_graph[key]\n",
        "  for i in range(len(lgk.edges)):\n",
        "    #edges.append([lgk.idx, loaded_graph[lgk.edges[i]].idx])\n",
        "    edges[0].append(lgk.idx)\n",
        "    edges[1].append(loaded_graph[lgk.edges[i]].idx)\n",
        "    edgews.append(lgk.edgew[i])\n",
        "\n",
        "edges = torch.from_numpy(np.array(edges))\n",
        "edgews = torch.from_numpy(np.array(edgews))\n",
        "\n",
        "print(\"Number of edges: \" + str(len(edges[0])))\n",
        "print(\"Avg edge count per node: \" + str(len(edges[0])/len(loaded_graph)))"
      ],
      "metadata": {
        "id": "NtnqcBCj11YY"
      },
      "execution_count": null,
      "outputs": []
    },
    {
      "cell_type": "markdown",
      "source": [
        "##### Create a onehot encoding function"
      ],
      "metadata": {
        "id": "_ZFmaipb1CFR"
      }
    },
    {
      "cell_type": "code",
      "source": [
        "def onehot_arr(word):\n",
        "  v = np.zeros(len(nouns))\n",
        "  v[nouns.index(word)] = 1\n",
        "  return v"
      ],
      "metadata": {
        "id": "Nl9cMQa81FY0"
      },
      "execution_count": null,
      "outputs": []
    },
    {
      "cell_type": "markdown",
      "source": [
        "##### Contrastive loss function:"
      ],
      "metadata": {
        "id": "3GJUrywb1OuJ"
      }
    },
    {
      "cell_type": "code",
      "source": [
        "def getLoss(model_outp, reps, pospairs_list):\n",
        "  loss = 0\n",
        "  for i in range(reps):\n",
        "    # negative pairs: + sum (<modeloutp[x1], modeloutp[x2]>-comatrix[x1, x2])^2\n",
        "    (nx1, nx2) = (random.randint(0, len(model_outp)-1), random.randint(0, len(model_outp)-1))\n",
        "    #negfn = lambda a: torch.pow(torch.exp(a)+1, 1)\n",
        "    negfn = lambda a: torch.pow((1+a), 2)\n",
        "    loss += negfn(torch.dot(model_outp[nx1], model_outp[nx2]))\n",
        "\n",
        "    # positive pairs: - sum(<modeloutp[x1], modeloutp[x2]>-comatrix[x1, x2])\n",
        "    (px1, px2) = pospairs_list[random.randint(0, len(pospairs_list)-1)]\n",
        "    #posfn = lambda a: torch.log(a+1) # dont let a be a decimal and send loss to inf\n",
        "    posfn = lambda a: torch.pow((1+a), 1.5)\n",
        "    loss -= posfn(torch.dot(model_outp[px1], model_outp[px2]))\n",
        "\n",
        "    #loss /= 10000 # make it more visually readable\n",
        "  return loss"
      ],
      "metadata": {
        "id": "Ys6urvJv1OWj"
      },
      "execution_count": null,
      "outputs": []
    },
    {
      "cell_type": "markdown",
      "source": [
        "##### Initialize our device, model, input, and optimizer"
      ],
      "metadata": {
        "id": "pU-BvSAB1fmt"
      }
    },
    {
      "cell_type": "code",
      "source": [
        "device = torch.device('cuda' if torch.cuda.is_available() else 'cpu')\n",
        "model = unweightedGNN().to(device)\n",
        "model.double()\n",
        "x = torch.from_numpy(np.array([onehot_arr(x) for x in nouns])).to(device) # input\n",
        "optimizer = torch.optim.Adam(model.parameters(), lr=0.0002, weight_decay=5e-4)\n",
        "\n",
        "# put our edges and edgeweights on GPU if available:\n",
        "edges = edges.to(device)\n",
        "edgews = edgews.to(device)"
      ],
      "metadata": {
        "id": "GNlqA9qP1e3s"
      },
      "execution_count": null,
      "outputs": []
    },
    {
      "cell_type": "markdown",
      "source": [
        "##### Train the model:"
      ],
      "metadata": {
        "id": "n50jzEXl2JZN"
      }
    },
    {
      "cell_type": "code",
      "source": [
        "def embed(word, graph): # get the embedding of a word based on the model\n",
        "  return graph[words_dict[word]].detach().cpu().numpy()\n",
        "\n",
        "model.double() # convert all layers to process doubles instead of floats bc we have input of type double?\n",
        "batch_size = 8000\n",
        "epochs = 20\n",
        "epoch5loss = 0\n",
        "\n",
        "words = ['tree', 'dirt', 'worm', 'time', 'day']\n",
        "embeddings = []\n",
        "for epoch in range(epochs):\n",
        "    optimizer.zero_grad()\n",
        "    out = model(x, edges, edgews)\n",
        "    loss = getLoss(out, batch_size, pospairs_list) # reps should be proportional to len(pospairs_list)\n",
        "    epoch5loss += round(loss.item(), 2)\n",
        "    if(epoch!=0 and epoch%1==0):\n",
        "      print(\"epoch: \"+str(epoch)+ \", loss: \"+str(epoch5loss/1000)) # 8000 batch size\n",
        "      embeddings.append([embed(word, out) for word in words]) # create an embeddings matrix\n",
        "      epoch5loss=0\n",
        "    loss.backward()\n",
        "    optimizer.step()\n",
        "\n",
        "# do it one more time, on EVAL this time to ignore dropout\n",
        "optimizer.zero_grad()\n",
        "model.eval()\n",
        "out = model(x, edges, edgews)\n",
        "loss = getLoss(out, batch_size, pospairs_list)\n",
        "print(\"Loss on eval: \"+str(round(loss.item()/1000, 2)))"
      ],
      "metadata": {
        "id": "ElElbaWf2Iuv"
      },
      "execution_count": null,
      "outputs": []
    },
    {
      "cell_type": "code",
      "source": [
        "# from word2vec demo: https://colab.research.google.com/drive/15jYCT9ml8fhMvMWsU7PAOJCURdyvWt5_?authuser=3#scrollTo=eT_s4422gMUw\n",
        "\n",
        "def make_vis(embeddings):\n",
        "  embed_dim = 425\n",
        "  # visualize it\n",
        "  num_embed = len(embeddings)\n",
        "  cmap = matplotlib.cm.coolwarm\n",
        "  fig, axes = plt.subplots(num_embed, 1)\n",
        "  norm = matplotlib.colors.Normalize(vmin=embeddings[0].min(), vmax=embeddings[0].max())\n",
        "  for idx in range(num_embed):\n",
        "    ax = axes[idx]\n",
        "    embedding = embeddings[idx]\n",
        "    for i in range(embed_dim):\n",
        "      ax.add_patch(Rectangle((i/embed_dim, 0),.05,1, color=cmap(norm(embedding[i]))))\n",
        "    ax.text(1.02, .5, words[idx], fontsize=12)\n",
        "    ax.axis('off')\n",
        "  plt.show"
      ],
      "metadata": {
        "id": "FvOnJy8z8dH-"
      },
      "execution_count": null,
      "outputs": []
    },
    {
      "cell_type": "markdown",
      "source": [
        "Display embeddings"
      ],
      "metadata": {
        "id": "4oyzC707QTqJ"
      }
    },
    {
      "cell_type": "code",
      "source": [
        "import time\n",
        "for i in range(len(embeddings)):\n",
        "  if((i+1)%5==0):\n",
        "    make_vis(embeddings[i])"
      ],
      "metadata": {
        "colab": {
          "base_uri": "https://localhost:8080/",
          "height": 710
        },
        "id": "M7obfhd3trb9",
        "outputId": "66bd8085-9f39-4065-c196-5d957c674d42"
      },
      "execution_count": null,
      "outputs": [
        {
          "output_type": "display_data",
          "data": {
            "text/plain": [
              "<Figure size 432x288 with 6 Axes>"
            ],
            "image/png": "[encoded data removed]"
          },
          "metadata": {
            "needs_background": "light"
          }
        },
        {
          "output_type": "display_data",
          "data": {
            "text/plain": [
              "<Figure size 432x288 with 6 Axes>"
            ],
            "image/png": "[encoded data removed]"
          },
          "metadata": {
            "needs_background": "light"
          }
        },
        {
          "output_type": "display_data",
          "data": {
            "text/plain": [
              "<Figure size 432x288 with 6 Axes>"
            ],
            "image/png": "[encoded data removed]"
          },
          "metadata": {
            "needs_background": "light"
          }
        }
      ]
    },
    {
      "cell_type": "code",
      "source": [
        "import seaborn as sn\n",
        "from sentence_transformers import SentenceTransformer # pretrained sbert: https://www.sbert.net/\n",
        "from sentence_transformers import util\n",
        "\n",
        "words = ['tree', 'dirt', 'worm', 'time', 'day']\n",
        "sims = []\n",
        "\n",
        "for i in range(len(words)):\n",
        "  sims.append([])\n",
        "  for j in range(len(words)):\n",
        "    sims[i].append(util.cos_sim(out[words_dict[words[i]]], out[words_dict[words[j]]]).item())\n",
        "\n",
        "\n",
        "df = pd.DataFrame({words[0]:[sims[0][0], sims[0][1], sims[0][2], sims[0][3], sims[0][4]],\n",
        "                   words[1]:[sims[1][0], sims[1][1], sims[1][2], sims[1][3], sims[1][4]],\n",
        "                   words[2]:[sims[2][0], sims[2][1], sims[2][2], sims[2][3], sims[2][4]],\n",
        "                   words[3]:[sims[3][0], sims[3][1], sims[3][2], sims[3][3], sims[3][4]], \n",
        "                   words[4]:[sims[4][0], sims[4][1], sims[4][2], sims[4][3], sims[4][4]]},\n",
        "                   index =[words])\n",
        "\n",
        "\n",
        "sn.heatmap(df, cmap=\"YlGnBu\")\n",
        "\n",
        "\n",
        "plt.show()"
      ],
      "metadata": {
        "id": "vwIURufcMgUh"
      },
      "execution_count": null,
      "outputs": []
    },
    {
      "cell_type": "markdown",
      "source": [
        "##### Test the model:"
      ],
      "metadata": {
        "id": "brA385Zb2mgF"
      }
    },
    {
      "cell_type": "code",
      "source": [
        "def compareNext(words, graph):\n",
        "  comparisons = []\n",
        "  if(len(words) > 1):\n",
        "    for i in range(1, len(words)):\n",
        "      comparisons.append([words[0]+\" x \"+words[i]+\"\", util.cos_sim(graph[words_dict[words[0]]], graph[words_dict[words[i]]]).item()])\n",
        "    for c in compareNext(words[1:], graph):\n",
        "      comparisons.append(c)\n",
        "  return comparisons\n",
        "\n",
        "\n",
        "words = ['tree', 'dirt', 'worm', 'time', 'day', 'night']\n",
        "\n",
        "comps = compareNext(words, out)\n",
        "comps.sort(key=lambda x:x[1])\n",
        "comps.reverse()\n",
        "\n",
        "split = False\n",
        "for item in comps:\n",
        "  if(item[1] < .7 and not split):\n",
        "    print(\"------------------\")\n",
        "    split = True\n",
        "  print(item[0]+\": \"+str(item[1]))"
      ],
      "metadata": {
        "id": "PX4nHBYw2pu-"
      },
      "execution_count": null,
      "outputs": []
    },
    {
      "cell_type": "markdown",
      "source": [
        "##### Saving:"
      ],
      "metadata": {
        "id": "53p4LZRs3yBZ"
      }
    },
    {
      "cell_type": "markdown",
      "source": [
        "Save the output graph to drive:"
      ],
      "metadata": {
        "id": "QmngEaxO2mWK"
      }
    },
    {
      "cell_type": "code",
      "source": [
        "os.listdir(\"/content/drive/My Drive\")"
      ],
      "metadata": {
        "id": "aPk2lQIYAXoe"
      },
      "execution_count": null,
      "outputs": []
    },
    {
      "cell_type": "code",
      "source": [
        "name = 'unweighted-50x8000x-comat3-feb3-9:14'\n",
        "torch.save(out, '/content/drive/My Drive/'+name+'.pt')"
      ],
      "metadata": {
        "id": "ujQ0TiOW2xmC"
      },
      "execution_count": null,
      "outputs": []
    },
    {
      "cell_type": "markdown",
      "source": [
        "Save the model to drive (if you want):"
      ],
      "metadata": {
        "id": "_hOTXQ4K3HOd"
      }
    },
    {
      "cell_type": "code",
      "source": [
        "torch.save(model.state_dict(), '/content/drive/My Drive/'+name)"
      ],
      "metadata": {
        "id": "zxw0MccH3JiF"
      },
      "execution_count": null,
      "outputs": []
    },
    {
      "cell_type": "markdown",
      "source": [
        "Load a model from drive:"
      ],
      "metadata": {
        "id": "a5UQlgzw3SC2"
      }
    },
    {
      "cell_type": "code",
      "source": [
        "name = \"\"\n",
        "model = unweightedGNN().to(device)\n",
        "model.load_state_dict(torch.load('/content/drive/My Drive/J-Term 2023/saved-models/'+name))\n",
        "model.double()\n",
        "model.eval()"
      ],
      "metadata": {
        "id": "DMOtDw4N3Rl1"
      },
      "execution_count": null,
      "outputs": []
    }
  ]
}
